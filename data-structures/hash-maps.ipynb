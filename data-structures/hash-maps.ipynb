{
 "cells": [
  {
   "cell_type": "code",
   "execution_count": 2,
   "metadata": {},
   "outputs": [],
   "source": [
    "city_map = dict()\n",
    "\n",
    "cities = [\"Calgary\", \"Vancouver\", \"Toronoto\"]"
   ]
  },
  {
   "cell_type": "code",
   "execution_count": 4,
   "metadata": {},
   "outputs": [
    {
     "ename": "KeyError",
     "evalue": "'Canada'",
     "output_type": "error",
     "traceback": [
      "\u001b[0;31m---------------------------------------------------------------------------\u001b[0m",
      "\u001b[0;31mKeyError\u001b[0m                                  Traceback (most recent call last)",
      "Cell \u001b[0;32mIn[4], line 2\u001b[0m\n\u001b[1;32m      1\u001b[0m \u001b[38;5;66;03m# Method fails because the key \"canada\" does not exist in the dictionary\u001b[39;00m\n\u001b[0;32m----> 2\u001b[0m \u001b[43mcity_map\u001b[49m\u001b[43m[\u001b[49m\u001b[38;5;124;43m\"\u001b[39;49m\u001b[38;5;124;43mCanada\u001b[39;49m\u001b[38;5;124;43m\"\u001b[39;49m\u001b[43m]\u001b[49m\u001b[38;5;241m.\u001b[39mappend(cities)\n",
      "\u001b[0;31mKeyError\u001b[0m: 'Canada'"
     ]
    }
   ],
   "source": [
    "# Method fails because the key \"canada\" does not exist in the dictionary\n",
    "city_map[\"Canada\"].append(cities)"
   ]
  },
  {
   "cell_type": "code",
   "execution_count": 10,
   "metadata": {},
   "outputs": [
    {
     "data": {
      "text/plain": [
       "defaultdict(list,\n",
       "            {'Nigeria': [['Lagos', 'Abuja', 'Kano']],\n",
       "             'Canada': ['Calgary', 'Vancouver', 'Toronoto']})"
      ]
     },
     "execution_count": 10,
     "metadata": {},
     "output_type": "execute_result"
    }
   ],
   "source": [
    "city_map[\"Canada\"] = []\n",
    "city_map[\"Canada\"] += cities\n",
    "city_map"
   ]
  },
  {
   "cell_type": "code",
   "execution_count": 13,
   "metadata": {},
   "outputs": [
    {
     "data": {
      "text/plain": [
       "defaultdict(list,\n",
       "            {'Nigeria': [['Lagos', 'Abuja', 'Kano']],\n",
       "             'Canada': [['Calgary', 'Vancouver', 'Toronoto']]})"
      ]
     },
     "execution_count": 13,
     "metadata": {},
     "output_type": "execute_result"
    }
   ],
   "source": [
    "# To avoid initialising an array each time with an empty array, we can use the defaultdict class from the collections module\n",
    "\n",
    "from collections import defaultdict\n",
    "\n",
    "city_map = defaultdict(list)\n",
    "cities_n = [\"Lagos\", \"Abuja\", \"Kano\"]\n",
    "city_map[\"Nigeria\"].append(cities_n)\n",
    "city_map[\"Canada\"].append(cities)\n",
    "city_map"
   ]
  },
  {
   "cell_type": "markdown",
   "metadata": {},
   "source": [
    "LeetCode 49: Group Anagrams"
   ]
  },
  {
   "cell_type": "code",
   "execution_count": null,
   "metadata": {},
   "outputs": [],
   "source": [
    "# Given an array of strings strs, group the anagrams together. You can return the answer in any order.\n",
    "\n",
    "# Example 1:\n",
    "\n",
    "# Input: strs = [\"eat\",\"tea\",\"tan\",\"ate\",\"nat\",\"bat\"]\n",
    "\n",
    "# Output: [[\"bat\"],[\"nat\",\"tan\"],[\"ate\",\"eat\",\"tea\"]]\n",
    "\n",
    "# Explanation:\n",
    "\n",
    "# There is no string in strs that can be rearranged to form \"bat\".\n",
    "# The strings \"nat\" and \"tan\" are anagrams as they can be rearranged to form each other.\n",
    "# The strings \"ate\", \"eat\", and \"tea\" are anagrams as they can be rearranged to form each other.\n",
    "\n",
    "# Example 2:\n",
    "\n",
    "# Input: strs = [\"\"]\n",
    "\n",
    "# Output: [[\"\"]]\n",
    "\n",
    "# Example 3:\n",
    "\n",
    "# Input: strs = [\"a\"]\n",
    "\n",
    "# Output: [[\"a\"]]\n",
    "\n",
    "# Constraints:\n",
    "\n",
    "# 1 <= strs.length <= 10**4\n",
    "# 0 <= strs[i].length <= 100\n",
    "# strs[i] consists of lowercase English letters."
   ]
  },
  {
   "cell_type": "code",
   "execution_count": null,
   "metadata": {},
   "outputs": [],
   "source": [
    "from typing import List\n",
    "\n",
    "def groupAnagrams(self, strs: List[str])"
   ]
  }
 ],
 "metadata": {
  "kernelspec": {
   "display_name": "Python 3",
   "language": "python",
   "name": "python3"
  },
  "language_info": {
   "codemirror_mode": {
    "name": "ipython",
    "version": 3
   },
   "file_extension": ".py",
   "mimetype": "text/x-python",
   "name": "python",
   "nbconvert_exporter": "python",
   "pygments_lexer": "ipython3",
   "version": "3.9.6"
  }
 },
 "nbformat": 4,
 "nbformat_minor": 2
}
