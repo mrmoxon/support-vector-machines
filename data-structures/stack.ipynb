{
 "cells": [
  {
   "cell_type": "code",
   "execution_count": 57,
   "metadata": {},
   "outputs": [],
   "source": [
    "class Stack:\n",
    "    def __init__(self):\n",
    "        self.items = []\n",
    "\n",
    "    # This calibrates if the stack is empty, preventing the user from popping an empty stack\n",
    "    def is_empty(self):\n",
    "        return len(self.items) == 0\n",
    "\n",
    "    def push(self, item):\n",
    "        self.items.append(item)\n",
    "\n",
    "    # For size we must check the length of the list\n",
    "    def size(self):\n",
    "        return len(self.items)\n",
    "    \n",
    "    # For peek we must return the top element of the list\n",
    "    def peek(self):\n",
    "        if not self.is_empty():\n",
    "            return self.items[-1]\n",
    "        else:\n",
    "            return (\"Stack is empty, nothing to peek\")\n",
    "        \n",
    "    def pop(self):\n",
    "        if not self.is_empty():\n",
    "            return self.items.pop()\n",
    "        else:\n",
    "            return (\"Stack is empty, nothing to pop\")\n",
    "        \n",
    "    def get_min(self):\n",
    "        if self.is_empty():\n",
    "            return (\"Minimum value in the stack\")\n",
    "        return min(self.items)"
   ]
  },
  {
   "cell_type": "code",
   "execution_count": 45,
   "metadata": {},
   "outputs": [
    {
     "name": "stdout",
     "output_type": "stream",
     "text": [
      "Stack of items before pushes: []\n",
      "Size of stack: 0\n",
      "Peek at top of stack: Stack is empty, nothing to peek\n",
      "Pop from stack: Stack is empty, nothing to pop\n",
      "Stack of items after pushes: [1, 2, 3]\n",
      "Stack size: 3\n",
      "Top element: 3\n",
      "Pop from stack: 3\n",
      "Stack after pop: [1, 2]\n",
      "Stack size after pop: 2\n"
     ]
    }
   ],
   "source": [
    "stack = Stack()\n",
    "\n",
    "print(\"Stack of items before pushes:\", stack.items)\n",
    "print(\"Size of stack:\", stack.size())\n",
    "print(\"Peek at top of stack:\", stack.peek())\n",
    "print(\"Pop from stack:\", stack.pop())\n",
    "\n",
    "stack.push(1)\n",
    "stack.push(2)\n",
    "stack.push(3)\n",
    "\n",
    "print(\"Stack of items after pushes:\", stack.items)\n",
    "\n",
    "print(\"Stack size:\", stack.size())\n",
    "print(\"Top element:\", stack.peek())\n",
    "\n",
    "print(\"Pop from stack:\", stack.pop())\n",
    "print(\"Stack after pop:\", stack.items)\n",
    "print(\"Stack size after pop:\", stack.size())"
   ]
  },
  {
   "cell_type": "code",
   "execution_count": 60,
   "metadata": {},
   "outputs": [
    {
     "name": "stdout",
     "output_type": "stream",
     "text": [
      "Stack of items after push: [100, 99, 101]\n",
      "Stack size: 3\n",
      "Minimum element in stack: 101\n"
     ]
    }
   ],
   "source": [
    "stack2 = Stack()\n",
    "\n",
    "stack2.push(100)\n",
    "stack2.push(99)\n",
    "stack2.push(101)\n",
    "\n",
    "print(\"Stack of items after push:\", stack2.items)\n",
    "print(\"Stack size:\", stack2.size())\n",
    "\n",
    "# Some slightly more advanced testing\n",
    "print(\"Minimum element in stack:\", stack2.get_min())"
   ]
  }
 ],
 "metadata": {
  "kernelspec": {
   "display_name": "Python 3",
   "language": "python",
   "name": "python3"
  },
  "language_info": {
   "codemirror_mode": {
    "name": "ipython",
    "version": 3
   },
   "file_extension": ".py",
   "mimetype": "text/x-python",
   "name": "python",
   "nbconvert_exporter": "python",
   "pygments_lexer": "ipython3",
   "version": "3.9.6"
  }
 },
 "nbformat": 4,
 "nbformat_minor": 2
}
