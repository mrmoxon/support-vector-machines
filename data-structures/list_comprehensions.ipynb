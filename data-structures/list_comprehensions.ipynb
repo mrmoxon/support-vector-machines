{
 "cells": [
  {
   "cell_type": "markdown",
   "metadata": {},
   "source": [
    "The general structure for list comprehensions is as follows:\n",
    "\n",
    "```\n",
    "output_list = [expression for item in iterable if condition]\n",
    "```\n",
    "\n",
    "- The brackets ensure a new list is created.\n",
    "\n",
    "- The expression (i) at the beginning is what determines what goes into the new list. \n",
    "    - If you don't add this, it might default to booleans; True/False, so you'd get [True, True, False]\n",
    "\n",
    "- Iterable value is the old list, if the old list exists. \n",
    "\n",
    "Here are all the variations (if you don't include this formula exactly)"
   ]
  },
  {
   "cell_type": "markdown",
   "metadata": {},
   "source": [
    "<u>Basic Structure</u>\n",
    "\n",
    "output_list = [expression for item in iterable if condition]"
   ]
  },
  {
   "cell_type": "markdown",
   "metadata": {},
   "source": [
    "<u>1. Standard list comprehension</u>"
   ]
  },
  {
   "cell_type": "code",
   "execution_count": 8,
   "metadata": {},
   "outputs": [
    {
     "name": "stdout",
     "output_type": "stream",
     "text": [
      "[4, 5]\n"
     ]
    }
   ],
   "source": [
    "list = [1,2,3,4,5]\n",
    "\n",
    "output_1 = [i for i in list if i > 3]\n",
    "print(output_1)"
   ]
  },
  {
   "cell_type": "markdown",
   "metadata": {},
   "source": [
    "<u>2. Without condition (includes all elements, possibly transformed)</u>"
   ]
  },
  {
   "cell_type": "code",
   "execution_count": 13,
   "metadata": {},
   "outputs": [
    {
     "name": "stdout",
     "output_type": "stream",
     "text": [
      "[False, False, False, True, True]\n",
      "[8, 10]\n",
      "[4, 5]\n"
     ]
    }
   ],
   "source": [
    "# If you flip the order, you can use [condition for item in list], which is more readable and filters the list first, but left alone transforms the item into boolean\n",
    "output = [i > 3 for i in list]\n",
    "print(output)\n",
    "\n",
    "# Alternatively, you could transform the item\n",
    "output_2 = [i*2 for i in list if i > 3]\n",
    "print(output_2)\n",
    "\n",
    "# So if you transfrom by *1, you force the expression to be floating point, same as original list\n",
    "output_3 = [i*1 for i in list if i > 3]\n",
    "print(output_3)"
   ]
  },
  {
   "cell_type": "code",
   "execution_count": 14,
   "metadata": {},
   "outputs": [
    {
     "name": "stdout",
     "output_type": "stream",
     "text": [
      "[4]\n"
     ]
    }
   ],
   "source": [
    "# 6. Using a more complex condition where output must also be divisible by 2\n",
    "output_6 = [i for i in list if i > 3 and i % 2 == 0]\n",
    "print(output_6)"
   ]
  },
  {
   "cell_type": "code",
   "execution_count": 19,
   "metadata": {},
   "outputs": [
    {
     "name": "stdout",
     "output_type": "stream",
     "text": [
      "[(4, 16), (5, 25)]\n",
      "[4, 5]\n"
     ]
    }
   ],
   "source": [
    "# 5. Creating a list of tuples\n",
    "output_5 = [(i, i**2) for i in list if i > 3]\n",
    "print(output_5)\n",
    "\n",
    "output_6 = [i > 3 for i in list]\n",
    "print(output_6)"
   ]
  },
  {
   "cell_type": "markdown",
   "metadata": {},
   "source": [
    "Now assume the list = [One, Two, Three, Four, Five]"
   ]
  },
  {
   "cell_type": "code",
   "execution_count": 20,
   "metadata": {},
   "outputs": [
    {
     "name": "stdout",
     "output_type": "stream",
     "text": [
      "['One', 'Two', 'Three', 'Four', 'Five']\n"
     ]
    }
   ],
   "source": [
    "list_words = [\"One\", \"Two\", \"Three\", \"Four\", \"Five\"] # Where the list is a list of strings\n",
    "\n",
    "# Basic list comprehension (does nothing but return the list; no condition): [expression for item in list]\n",
    "output_1 = [word for word in list_words]\n",
    "print(output_1)"
   ]
  },
  {
   "cell_type": "code",
   "execution_count": 22,
   "metadata": {},
   "outputs": [
    {
     "name": "stdout",
     "output_type": "stream",
     "text": [
      "['Three', 'Four', 'Five']\n",
      "['Two', 'Three']\n"
     ]
    }
   ],
   "source": [
    "# We can filter the list by adding a condition: [expression for item in list if condition]\n",
    "# e.g. only return words that have more than three letters\n",
    "\n",
    "output_2 = [word for word in list_words if len(word) > 3]\n",
    "print(output_2)\n",
    "\n",
    "# or e.g. only return words that start with the letter T\n",
    "output_3 = [word for word in list_words if word[0] == 'T']\n",
    "print(output_3)"
   ]
  },
  {
   "cell_type": "code",
   "execution_count": 2,
   "metadata": {},
   "outputs": [
    {
     "ename": "NameError",
     "evalue": "name 'List' is not defined",
     "output_type": "error",
     "traceback": [
      "\u001b[0;31m---------------------------------------------------------------------------\u001b[0m",
      "\u001b[0;31mNameError\u001b[0m                                 Traceback (most recent call last)",
      "Cell \u001b[0;32mIn[2], line 1\u001b[0m\n\u001b[0;32m----> 1\u001b[0m \u001b[38;5;28;01mclass\u001b[39;00m \u001b[38;5;21;01mSolution\u001b[39;00m:\n\u001b[1;32m      2\u001b[0m     \u001b[38;5;28;01mdef\u001b[39;00m \u001b[38;5;21mlistComp\u001b[39m(\u001b[38;5;28mself\u001b[39m, digits: List[\u001b[38;5;28mint\u001b[39m]) \u001b[38;5;241m-\u001b[39m\u001b[38;5;241m>\u001b[39m List[\u001b[38;5;28mint\u001b[39m]:\n\u001b[1;32m      4\u001b[0m         \u001b[38;5;28mlist\u001b[39m \u001b[38;5;241m=\u001b[39m [\u001b[38;5;241m1\u001b[39m,\u001b[38;5;241m2\u001b[39m,\u001b[38;5;241m3\u001b[39m,\u001b[38;5;241m4\u001b[39m,\u001b[38;5;241m5\u001b[39m]\n",
      "Cell \u001b[0;32mIn[2], line 2\u001b[0m, in \u001b[0;36mSolution\u001b[0;34m()\u001b[0m\n\u001b[1;32m      1\u001b[0m \u001b[38;5;28;01mclass\u001b[39;00m \u001b[38;5;21;01mSolution\u001b[39;00m:\n\u001b[0;32m----> 2\u001b[0m     \u001b[38;5;28;01mdef\u001b[39;00m \u001b[38;5;21mlistComp\u001b[39m(\u001b[38;5;28mself\u001b[39m, digits: \u001b[43mList\u001b[49m[\u001b[38;5;28mint\u001b[39m]) \u001b[38;5;241m-\u001b[39m\u001b[38;5;241m>\u001b[39m List[\u001b[38;5;28mint\u001b[39m]:\n\u001b[1;32m      4\u001b[0m         \u001b[38;5;28mlist\u001b[39m \u001b[38;5;241m=\u001b[39m [\u001b[38;5;241m1\u001b[39m,\u001b[38;5;241m2\u001b[39m,\u001b[38;5;241m3\u001b[39m,\u001b[38;5;241m4\u001b[39m,\u001b[38;5;241m5\u001b[39m]\n\u001b[1;32m      6\u001b[0m         output_list \u001b[38;5;241m=\u001b[39m []\n",
      "\u001b[0;31mNameError\u001b[0m: name 'List' is not defined"
     ]
    }
   ],
   "source": [
    "class Solution:\n",
    "    def listComp(self, digits: List[int]) -> List[int]:\n",
    "        \n",
    "        list = [1,2,3,4,5]\n",
    "\n",
    "        output_list = []\n",
    "        output = [i > 3 for i in list] # This didn't work as the list comprehension, despite making a list, doesn't make each element i\n",
    "        for i in list:\n",
    "            if i > 3:\n",
    "                output_list.append(i)\n",
    "\n",
    "        # Using a list comprehension\n",
    "        output_list2 = [i for i in list if i > 3]\n",
    "        # How this works:\n",
    "        # \"for i in list if i > 3\" would be the typical expression\n",
    "        # Does adding i for i make it work as a list comprehension?\n",
    "                \n",
    "        print(f\"output: {output}\")\n",
    "        print(f\"output_list: {output_list}\")\n",
    "        print(f\"output_list2: {output_list2}\")\n",
    "\n",
    "        return output_list2\n",
    "\n",
    "if __name__ == \"__main__\":\n",
    "    Solution().listComp()"
   ]
  }
 ],
 "metadata": {
  "kernelspec": {
   "display_name": "Python 3",
   "language": "python",
   "name": "python3"
  },
  "language_info": {
   "codemirror_mode": {
    "name": "ipython",
    "version": 3
   },
   "file_extension": ".py",
   "mimetype": "text/x-python",
   "name": "python",
   "nbconvert_exporter": "python",
   "pygments_lexer": "ipython3",
   "version": "3.9.6"
  }
 },
 "nbformat": 4,
 "nbformat_minor": 2
}
