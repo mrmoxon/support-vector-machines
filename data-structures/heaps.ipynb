{
 "cells": [
  {
   "cell_type": "code",
   "execution_count": 6,
   "metadata": {},
   "outputs": [],
   "source": [
    "import heapq\n",
    "\n",
    "# First create several functions to coordinate.\n",
    "\n",
    "# Create heap\n",
    "def create_heap(numbers):\n",
    "    # To create heap from a list of numbers we use \n",
    "    # heapq.heapify(array)\n",
    "    heapq.heapify(numbers)\n",
    "    return numbers\n",
    "\n",
    "# Add to heap\n",
    "def add_to_heap(heap, number):\n",
    "    \"\"\"Add a number to the heap\"\"\"\n",
    "    heapq.heappush(heap, number)\n",
    "\n",
    "# Remove smallest\n",
    "\n",
    "# Get smallest\n",
    "\n",
    "# Sort heap\n",
    "\n",
    "# Get k smallest\n",
    "\n",
    "# Get k largest\n",
    "\n"
   ]
  },
  {
   "cell_type": "code",
   "execution_count": 23,
   "metadata": {},
   "outputs": [
    {
     "name": "stdout",
     "output_type": "stream",
     "text": [
      "Original numbers: [3, 1, 4, 1, 5, 9, 2, 6, 5, 3, 5]\n",
      "Heap: [1, 1, 2, 3, 3, 9, 4, 6, 5, 5, 5]\n",
      "Heap after adding 100: [1, 1, 2, 3, 3, 9, 4, 6, 5, 5, 5, 12]\n"
     ]
    }
   ],
   "source": [
    "# Here we will test your functions\n",
    "if __name__ == \"__main__\":\n",
    "    numbers = [3, 1, 4, 1, 5, 9, 2, 6, 5, 3, 5]\n",
    "    \n",
    "    print(\"Original numbers:\", numbers)\n",
    "    # Original numbers: [3, 1, 4, 1, 5, 9, 2, 6, 5, 3, 5]\n",
    "\n",
    "    heap = create_heap(numbers.copy())\n",
    "    print(\"Heap:\", heap)\n",
    "    # Heap: [1, 1, 2, 3, 3, 9, 4, 6, 5, 5, 5]\n",
    "\n",
    "    # How do we visualise? \n",
    "\n",
    "    # In rows; row 1 = 1, row 2 = 1, 2, row 3 = 3, 3, 9, 4, row 4 = 6, 5, 5, 5\n",
    "\n",
    "    #          1\n",
    "    #        /   \\\n",
    "    #       1     2\n",
    "    #      / \\   / \\\n",
    "    #     3   3 9   4\n",
    "    #    / \\ / \\\n",
    "    #   6  5 5  5\n",
    "\n",
    "    add_to_heap(heap, 12)\n",
    "    print(\"Heap after adding 100:\", heap)\n",
    "    # Heap after adding 2: [1, 1, 2, 3, 3, 2, 4, 6, 5, 5, 5, 9]\n",
    "    # Heap after adding 5: [1, 1, 2, 3, 3, 5, 4, 6, 5, 5, 5, 9]\n",
    "    # Heap after adding 8: [1, 1, 2, 3, 3, 8, 4, 6, 5, 5, 5, 9]\n",
    "\n",
    "    # In these cases the heap follows as before with the new addition, which bubbles up automatically in the heapq.heappush function\n",
    "    # row 1: 1, row 2: 1, 2, row 3: 3, 3, 8, 4, row 4: 6, 5, 5, 5, 9\n",
    "    #          1\n",
    "    #        /      \\\n",
    "    #       1           2\n",
    "    #      / \\         / \\\n",
    "    #     3   3       8   4\n",
    "    #    / \\ / \\     /\n",
    "    #   6  5 5  5   9\n",
    "\n",
    "    # Heap after adding 10: [1, 1, 2, 3, 3, 9, 4, 6, 5, 5, 5, 10]\n",
    "    # row 1: 1, row 2: 1, 2, row 3: 3, 3, 9, 4, row 4: 6, 5, 5, 5, 10\n",
    "    #          1\n",
    "    #        /      \\\n",
    "    #       1           2\n",
    "    #      / \\         / \\\n",
    "    #     3   3       9   4\n",
    "    #    / \\ / \\     /\n",
    "    #   6  5 5  5   10\n",
    "\n"
   ]
  }
 ],
 "metadata": {
  "kernelspec": {
   "display_name": "Python 3",
   "language": "python",
   "name": "python3"
  },
  "language_info": {
   "codemirror_mode": {
    "name": "ipython",
    "version": 3
   },
   "file_extension": ".py",
   "mimetype": "text/x-python",
   "name": "python",
   "nbconvert_exporter": "python",
   "pygments_lexer": "ipython3",
   "version": "3.9.6"
  }
 },
 "nbformat": 4,
 "nbformat_minor": 2
}
