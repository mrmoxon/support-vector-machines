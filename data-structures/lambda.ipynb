{
 "cells": [
  {
   "cell_type": "code",
   "execution_count": null,
   "metadata": {},
   "outputs": [],
   "source": [
    "# In Python, lambda is a keyword used to define anonymous functions(i.e., functions that don't have a name), sometimes called lambda functions (after the keyword, which in turn comes from theory).\n",
    "\n",
    "# Let's see some examples:"
   ]
  },
  {
   "cell_type": "code",
   "execution_count": 1,
   "metadata": {},
   "outputs": [
    {
     "data": {
      "text/plain": [
       "<function __main__.<lambda>(num1, num2)>"
      ]
     },
     "execution_count": 1,
     "metadata": {},
     "output_type": "execute_result"
    }
   ],
   "source": [
    "lambda num1, num2: num1 + num2"
   ]
  },
  {
   "cell_type": "code",
   "execution_count": 4,
   "metadata": {},
   "outputs": [
    {
     "name": "stdout",
     "output_type": "stream",
     "text": [
      "12\n"
     ]
    },
    {
     "data": {
      "text/plain": [
       "65"
      ]
     },
     "execution_count": 4,
     "metadata": {},
     "output_type": "execute_result"
    }
   ],
   "source": [
    "addition = lambda num1, num2: num1 + num2\n",
    "print(addition(5, 7))  # 12\n",
    "addition(60, 5) # 65"
   ]
  },
  {
   "cell_type": "code",
   "execution_count": 8,
   "metadata": {},
   "outputs": [
    {
     "name": "stdout",
     "output_type": "stream",
     "text": [
      "121\n",
      "2000\n",
      "-92\n"
     ]
    }
   ],
   "source": [
    "# Using it in-line, as it is an expression;\n",
    "\n",
    "print((lambda num1, num2: num1 + num2)(120, 1))  # 121\n",
    "print((lambda num1, num2: num1 + num2)(1000, 1000))  # 1001\n",
    "print((lambda num1, num2: num1 + num2)(-100, 2**3))  # -92"
   ]
  },
  {
   "cell_type": "code",
   "execution_count": 10,
   "metadata": {},
   "outputs": [
    {
     "name": "stdout",
     "output_type": "stream",
     "text": [
      "['Rishikesh', 'aman', 'Ajay', 'Hemkesh', 'sandeep', 'Darshan', 'Virendra', 'Shwetabh']\n",
      "['Ajay', 'Darshan', 'Hemkesh', 'Rishikesh', 'Shwetabh', 'Virendra', 'aman', 'sandeep']\n",
      "['Ajay', 'aman', 'Darshan', 'Hemkesh', 'Rishikesh', 'sandeep', 'Shwetabh', 'Virendra']\n"
     ]
    }
   ],
   "source": [
    "names = [\"Rishikesh\", \"aman\", \"Ajay\", \"Hemkesh\", \"sandeep\", \"Darshan\", \"Virendra\", \"Shwetabh\"]\n",
    "print(names)\n",
    "names2 = sorted(names) # By default it is first capital letters and then small letters, and all is alphabetical\n",
    "print(names2)\n",
    "\n",
    "# Let's use a lambda to get a case-insensitive sort:\n",
    "names3 = sorted(names, key=lambda name:name.lower())\n",
    "print(names3)"
   ]
  },
  {
   "cell_type": "code",
   "execution_count": 23,
   "metadata": {},
   "outputs": [
    {
     "name": "stdout",
     "output_type": "stream",
     "text": [
      "[(5, 0), (4, 1), (3, 2), (2, 3), (1, 4)]\n",
      "[(5, 0), (4, 1), (3, 2), (2, 3), (1, 4)]\n",
      "['', '', '', '', '']\n",
      "['Gold Medal', 'Silver Medal', 'Bronze Medal', '4', '5']\n"
     ]
    }
   ],
   "source": [
    "score = [5,4,3,2,1]\n",
    "\n",
    "# Convert the score list to a list of tuples where each tuple contains the score and its index from the original list\n",
    "score_with_index = [(s, i) for i, s in enumerate(score)]\n",
    "print(score_with_index)\n",
    "\n",
    "# Sort in descending order by using lambda expression x: x[0] to sort by the first element of each tuple, rather than the default behavior of sorting by the entire tuple (x, y)\n",
    "score_with_index.sort(key=lambda x: x[0], reverse=True)\n",
    "print(score_with_index)\n",
    "\n",
    "# Create the result array (define the result format)\n",
    "result = [\"\"] * len(score)\n",
    "print(result)\n",
    "\n",
    "def map_place_to_rank(place):\n",
    "    if place == 1:\n",
    "        return \"Gold Medal\"\n",
    "    elif place == 2:\n",
    "        return \"Silver Medal\"\n",
    "    elif place == 3:\n",
    "        return \"Bronze Medal\"\n",
    "    else:\n",
    "        return str(place)\n",
    "\n",
    "# Assign ranks\n",
    "for place, (_, index) in enumerate(score_with_index, 1):\n",
    "    result[index] = map_place_to_rank(place)\n",
    "\n",
    "print(result)"
   ]
  }
 ],
 "metadata": {
  "kernelspec": {
   "display_name": "Python 3",
   "language": "python",
   "name": "python3"
  },
  "language_info": {
   "codemirror_mode": {
    "name": "ipython",
    "version": 3
   },
   "file_extension": ".py",
   "mimetype": "text/x-python",
   "name": "python",
   "nbconvert_exporter": "python",
   "pygments_lexer": "ipython3",
   "version": "3.9.6"
  }
 },
 "nbformat": 4,
 "nbformat_minor": 2
}
